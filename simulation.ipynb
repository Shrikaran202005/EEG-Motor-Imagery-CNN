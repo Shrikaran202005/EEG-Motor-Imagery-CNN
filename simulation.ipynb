{
 "cells": [
  {
   "cell_type": "code",
   "execution_count": 22,
   "id": "2f3a3af9",
   "metadata": {},
   "outputs": [],
   "source": [
    "import torch\n",
    "import torch.nn as nn\n",
    "import numpy as np\n",
    "import matplotlib.pyplot as plt\n",
    "\n",
    "# Import your preprocess function (if in another file, use %run or copy it here)\n",
    "from process import preprocess_gdf_folder\n",
    "\n"
   ]
  },
  {
   "cell_type": "code",
   "execution_count": 23,
   "id": "4f4f2881",
   "metadata": {},
   "outputs": [],
   "source": [
    "import torch\n",
    "\n",
    "# Define your architecture exactly as used in training\n",
    "class EnhancedEEGCNNV3(nn.Module):\n",
    "    def __init__(self, num_classes=4):\n",
    "        super(EnhancedEEGCNNV3, self).__init__()\n",
    "\n",
    "        self.act = nn.SiLU()\n",
    "\n",
    "        self.conv1 = nn.Conv2d(3, 32, kernel_size=5, stride=2, padding=2)\n",
    "        self.bn1 = nn.BatchNorm2d(32)\n",
    "\n",
    "        self.conv2 = nn.Conv2d(32, 64, kernel_size=3, stride=2, padding=1)\n",
    "        self.bn2 = nn.BatchNorm2d(64)\n",
    "\n",
    "        self.conv3 = nn.Conv2d(64, 128, kernel_size=3, stride=2, padding=1)\n",
    "        self.bn3 = nn.BatchNorm2d(128)\n",
    "\n",
    "        self.conv4 = nn.Conv2d(128, 256, kernel_size=3, stride=2, padding=1)\n",
    "        self.bn4 = nn.BatchNorm2d(256)\n",
    "\n",
    "        self.global_pool = nn.AdaptiveAvgPool2d(1)\n",
    "        self.se_fc1 = nn.Linear(256, 64)\n",
    "        self.se_fc2 = nn.Linear(64, 256)\n",
    "\n",
    "        self.dropout = nn.Dropout(0.5)\n",
    "        self.fc1 = nn.Linear(256 * 8 * 2, 256)  # make sure this matches feature map size\n",
    "        self.fc2 = nn.Linear(256, num_classes)\n",
    "\n",
    "    def se_block(self, x):\n",
    "        b, c, _, _ = x.size()\n",
    "        y = self.global_pool(x).view(b, c)\n",
    "        y = self.act(self.se_fc1(y))\n",
    "        y = torch.sigmoid(self.se_fc2(y)).view(b, c, 1, 1)\n",
    "        return x * y\n",
    "\n",
    "    def forward(self, x):\n",
    "        x = self.act(self.bn1(self.conv1(x)))\n",
    "        x = self.act(self.bn2(self.conv2(x)))\n",
    "        x = self.act(self.bn3(self.conv3(x)))\n",
    "        x = self.act(self.bn4(self.conv4(x)))\n",
    "        x = self.se_block(x)\n",
    "        x = x.reshape(x.size(0), -1)\n",
    "        x = self.dropout(self.act(self.fc1(x)))\n",
    "        x = self.fc2(x)\n",
    "        return x\n",
    "\n",
    "\n"
   ]
  },
  {
   "cell_type": "code",
   "execution_count": 24,
   "id": "0cebe620",
   "metadata": {},
   "outputs": [
    {
     "data": {
      "text/plain": [
       "EnhancedEEGCNNV3(\n",
       "  (act): SiLU()\n",
       "  (conv1): Conv2d(3, 32, kernel_size=(5, 5), stride=(2, 2), padding=(2, 2))\n",
       "  (bn1): BatchNorm2d(32, eps=1e-05, momentum=0.1, affine=True, track_running_stats=True)\n",
       "  (conv2): Conv2d(32, 64, kernel_size=(3, 3), stride=(2, 2), padding=(1, 1))\n",
       "  (bn2): BatchNorm2d(64, eps=1e-05, momentum=0.1, affine=True, track_running_stats=True)\n",
       "  (conv3): Conv2d(64, 128, kernel_size=(3, 3), stride=(2, 2), padding=(1, 1))\n",
       "  (bn3): BatchNorm2d(128, eps=1e-05, momentum=0.1, affine=True, track_running_stats=True)\n",
       "  (conv4): Conv2d(128, 256, kernel_size=(3, 3), stride=(2, 2), padding=(1, 1))\n",
       "  (bn4): BatchNorm2d(256, eps=1e-05, momentum=0.1, affine=True, track_running_stats=True)\n",
       "  (global_pool): AdaptiveAvgPool2d(output_size=1)\n",
       "  (se_fc1): Linear(in_features=256, out_features=64, bias=True)\n",
       "  (se_fc2): Linear(in_features=64, out_features=256, bias=True)\n",
       "  (dropout): Dropout(p=0.5, inplace=False)\n",
       "  (fc1): Linear(in_features=4096, out_features=256, bias=True)\n",
       "  (fc2): Linear(in_features=256, out_features=4, bias=True)\n",
       ")"
      ]
     },
     "execution_count": 24,
     "metadata": {},
     "output_type": "execute_result"
    }
   ],
   "source": [
    "# Load checkpoint into the correct model\n",
    "model = EnhancedEEGCNNV3(num_classes=4)\n",
    "model.load_state_dict(torch.load(\"cnn_eeg_model.pth\", map_location=\"cpu\"))\n",
    "model.eval()\n"
   ]
  },
  {
   "cell_type": "code",
   "execution_count": 27,
   "id": "97d16afd",
   "metadata": {},
   "outputs": [
    {
     "name": "stdout",
     "output_type": "stream",
     "text": [
      "\n",
      "📄 Processing A01T.gdf (Subject 0)\n",
      "✅ Extracted 5733 samples from A01T.gdf\n",
      "\n",
      "📄 Processing A02T.gdf (Subject 1)\n",
      "✅ Extracted 5670 samples from A02T.gdf\n",
      "\n",
      "📄 Processing A03T.gdf (Subject 2)\n",
      "✅ Extracted 5670 samples from A03T.gdf\n",
      "\n",
      "📄 Processing A04T.gdf (Subject 3)\n",
      "✅ Extracted 5502 samples from A04T.gdf\n",
      "\n",
      "📄 Processing A05T.gdf (Subject 4)\n",
      "✅ Extracted 5502 samples from A05T.gdf\n",
      "\n",
      "📄 Processing A06T.gdf (Subject 5)\n",
      "✅ Extracted 4599 samples from A06T.gdf\n",
      "\n",
      "📄 Processing A07T.gdf (Subject 6)\n",
      "✅ Extracted 5691 samples from A07T.gdf\n",
      "\n",
      "📄 Processing A08T.gdf (Subject 7)\n",
      "✅ Extracted 5544 samples from A08T.gdf\n",
      "\n",
      "📄 Processing A09T.gdf (Subject 8)\n",
      "✅ Extracted 4977 samples from A09T.gdf\n",
      "\n",
      "🎯 Finished preprocessing.\n",
      "🟢 X shape: (48888, 120, 32, 3), y shape: (48888,), subject_ids shape: (48888,)\n",
      "X shape: (48888, 120, 32, 3)\n",
      "y shape: (48888,)\n"
     ]
    }
   ],
   "source": [
    "# Change this path depending on TRAIN or EVAL\n",
    "# folder_path = \"data/GDF file/2a_train/A01T.gdf\"   # or \"./data/eval\"\n",
    "\n",
    "X, y, subject_ids = preprocess_gdf_folder(\"data/GDF file/2a_train\")\n",
    "\n",
    "\n",
    "print(\"X shape:\", X.shape)   # (N, 120, 32, 3)\n",
    "print(\"y shape:\", y.shape)\n"
   ]
  },
  {
   "cell_type": "code",
   "execution_count": 28,
   "id": "0c26317d",
   "metadata": {},
   "outputs": [
    {
     "name": "stdout",
     "output_type": "stream",
     "text": [
      "Predictions shape: (48888,)\n"
     ]
    }
   ],
   "source": [
    "# Convert data to torch format (N, C, H, W)\n",
    "X_torch = torch.tensor(X.transpose(0, 3, 1, 2))\n",
    "\n",
    "with torch.no_grad():\n",
    "    outputs = model(X_torch)\n",
    "    preds = torch.argmax(outputs, dim=1).cpu().numpy()\n",
    "\n",
    "print(\"Predictions shape:\", preds.shape)\n"
   ]
  },
  {
   "cell_type": "code",
   "execution_count": 29,
   "id": "a9801535",
   "metadata": {},
   "outputs": [
    {
     "name": "stdout",
     "output_type": "stream",
     "text": [
      "✅ Accuracy: 98.74%\n"
     ]
    }
   ],
   "source": [
    "if len(y) > 0:\n",
    "    acc = np.mean(preds == y)\n",
    "    print(f\"✅ Accuracy: {acc*100:.2f}%\")\n",
    "else:\n",
    "    print(\"⚠ No ground truth labels available (evaluation set). Showing predictions only.\")\n"
   ]
  },
  {
   "cell_type": "code",
   "execution_count": 30,
   "id": "dd03fa61",
   "metadata": {},
   "outputs": [
    {
     "name": "stderr",
     "output_type": "stream",
     "text": [
      "Clipping input data to the valid range for imshow with RGB data ([0..1] for floats or [0..255] for integers). Got range [-1.2039104..4.325581].\n"
     ]
    },
    {
     "data": {
      "image/png": "[encoded data removed]",
      "text/plain": [
       "<Figure size 640x480 with 1 Axes>"
      ]
     },
     "metadata": {},
     "output_type": "display_data"
    },
    {
     "name": "stderr",
     "output_type": "stream",
     "text": [
      "Clipping input data to the valid range for imshow with RGB data ([0..1] for floats or [0..255] for integers). Got range [-1.5305327..4.1810327].\n"
     ]
    },
    {
     "data": {
      "image/png": "[encoded data removed]",
      "text/plain": [
       "<Figure size 640x480 with 1 Axes>"
      ]
     },
     "metadata": {},
     "output_type": "display_data"
    },
    {
     "name": "stderr",
     "output_type": "stream",
     "text": [
      "Clipping input data to the valid range for imshow with RGB data ([0..1] for floats or [0..255] for integers). Got range [-1.4917352..2.7835078].\n"
     ]
    },
    {
     "data": {
      "image/png": "[encoded data removed]",
      "text/plain": [
       "<Figure size 640x480 with 1 Axes>"
      ]
     },
     "metadata": {},
     "output_type": "display_data"
    },
    {
     "name": "stderr",
     "output_type": "stream",
     "text": [
      "Clipping input data to the valid range for imshow with RGB data ([0..1] for floats or [0..255] for integers). Got range [-1.308691..3.0806534].\n"
     ]
    },
    {
     "data": {
      "image/png": "[encoded data removed]",
      "text/plain": [
       "<Figure size 640x480 with 1 Axes>"
      ]
     },
     "metadata": {},
     "output_type": "display_data"
    },
    {
     "name": "stderr",
     "output_type": "stream",
     "text": [
      "Clipping input data to the valid range for imshow with RGB data ([0..1] for floats or [0..255] for integers). Got range [-1.1929353..2.3830516].\n"
     ]
    },
    {
     "data": {
      "image/png": "[encoded data removed]",
      "text/plain": [
       "<Figure size 640x480 with 1 Axes>"
      ]
     },
     "metadata": {},
     "output_type": "display_data"
    }
   ],
   "source": [
    "for i in range(min(5, len(preds))):\n",
    "    plt.imshow(X[i])   # EEG spectrogram image\n",
    "    plt.title(f\"Predicted class: {preds[i]}\")\n",
    "    plt.axis(\"off\")\n",
    "    plt.show()\n"
   ]
  }
 ],
 "metadata": {
  "kernelspec": {
   "display_name": "Python 3",
   "language": "python",
   "name": "python3"
  },
  "language_info": {
   "codemirror_mode": {
    "name": "ipython",
    "version": 3
   },
   "file_extension": ".py",
   "mimetype": "text/x-python",
   "name": "python",
   "nbconvert_exporter": "python",
   "pygments_lexer": "ipython3",
   "version": "3.10.0"
  }
 },
 "nbformat": 4,
 "nbformat_minor": 5
}
